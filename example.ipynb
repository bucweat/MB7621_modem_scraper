{
 "cells": [
  {
   "cell_type": "code",
   "execution_count": 1,
   "metadata": {},
   "outputs": [],
   "source": [
    "from MB7621 import modem\n",
    "from datetime import datetime\n",
    "import configparser\n",
    "\n",
    "config = configparser.ConfigParser()\n",
    "config.read('config.cfg')\n",
    "\n",
    "try:\n",
    "    u = config.get(\"MB7621\", \"username\")\n",
    "    p = config.get(\"MB7621\", \"password\")\n",
    "    i = int(config.get(\"MB7621\", \"interval\"))\n",
    "except configparser.NoOptionError:\n",
    "    print(\"please define a config.cfg file and include username, password, and interval.\")\n",
    "    sys.exit()\n",
    "except:\n",
    "    print(\"unhandled configparser error %s\" % sys.exc_info()[0])\n",
    "    sys.exit()\n"
   ]
  },
  {
   "cell_type": "code",
   "execution_count": 2,
   "metadata": {},
   "outputs": [
    {
     "output_type": "display_data",
     "data": {
      "text/plain": "[{'timestamp': datetime.datetime(2020, 8, 27, 12, 35, 43, 884006),\n  'OnlineStatus': 'Connected',\n  'Downstream': '24',\n  'Upstream': '4',\n  'MAC': '00:40:36:67:b8:f9',\n  'IPv4': '10.73.7.11',\n  'IPv6': '::',\n  'SoftwareVersion': '7621-5.7.1.5'}]"
     },
     "metadata": {}
    }
   ],
   "source": [
    "with modem() as m:\n",
    "    if m.login(u,p) == True:    \n",
    "        home = m.getMotoHome(datetime.now())\n",
    "        display(home)\n",
    "    else:\n",
    "        print('login failed')  "
   ]
  },
  {
   "cell_type": "code",
   "execution_count": 3,
   "metadata": {},
   "outputs": [
    {
     "output_type": "display_data",
     "data": {
      "text/plain": "[{'timestamp': datetime.datetime(2020, 8, 27, 12, 35, 44, 893050),\n  'DOCSIS': 'DOCSIS 3.0',\n  'HardwareVersion': 'V1.0',\n  'SoftwareVersion': '7621-5.7.1.5',\n  'ModemMAC': '00:40:36:67:b8:f9',\n  'ModemSerial': '1300-MB7621-30-0377',\n  'CMCertStatus': 'Installed',\n  'CMCertValue': '5.7.1mp4'}]"
     },
     "metadata": {}
    }
   ],
   "source": [
    "with modem() as m:\n",
    "    if m.login(u,p) == True:    \n",
    "        home = m.getMotoSwInfo(datetime.now())\n",
    "        display(home)\n",
    "    else:\n",
    "        print('login failed')  "
   ]
  },
  {
   "cell_type": "code",
   "execution_count": 4,
   "metadata": {},
   "outputs": [
    {
     "output_type": "display_data",
     "data": {
      "text/plain": "[{'timestamp': datetime.datetime(2020, 8, 27, 12, 35, 45, 272036),\n  'downFreq': '903000000 Hz',\n  'downStatus': 'Locked',\n  'upStatus1': 'OK',\n  'upStatus2': 'Operational',\n  'bootStatus1': 'OK',\n  'bootStatus2': 'Operational',\n  'configStatus1': 'OK',\n  'configStatus2': '^1/742A818B/141/001',\n  'securityStatus1': 'Enabled',\n  'securityStatus2': 'BPI+',\n  'systemUpTime': '0 days 19h:50m:18s',\n  'networkAccess': 'Allowed'}]"
     },
     "metadata": {}
    },
    {
     "output_type": "display_data",
     "data": {
      "text/plain": "[{'timestamp': datetime.datetime(2020, 8, 27, 12, 35, 45, 272036),\n  'Channel': '1',\n  'Locked': 'Locked',\n  'Modulation': 'QAM256',\n  'Channel ID': '21',\n  'Freq_MHz': '903.0',\n  'Pwr_dBmV': ' 3.4',\n  'SNR_dB': '40.1',\n  'Corrected': '202',\n  'Uncorrected': '576'},\n {'timestamp': datetime.datetime(2020, 8, 27, 12, 35, 45, 272036),\n  'Channel': '2',\n  'Locked': 'Locked',\n  'Modulation': 'QAM256',\n  'Channel ID': '9',\n  'Freq_MHz': '831.0',\n  'Pwr_dBmV': ' 3.9',\n  'SNR_dB': '40.2',\n  'Corrected': '154',\n  'Uncorrected': '559'},\n {'timestamp': datetime.datetime(2020, 8, 27, 12, 35, 45, 272036),\n  'Channel': '3',\n  'Locked': 'Locked',\n  'Modulation': 'QAM256',\n  'Channel ID': '10',\n  'Freq_MHz': '837.0',\n  'Pwr_dBmV': ' 4.0',\n  'SNR_dB': '40.3',\n  'Corrected': '172',\n  'Uncorrected': '482'},\n {'timestamp': datetime.datetime(2020, 8, 27, 12, 35, 45, 272036),\n  'Channel': '4',\n  'Locked': 'Locked',\n  'Modulation': 'QAM256',\n  'Channel ID': '11',\n  'Freq_MHz': '843.0',\n  'Pwr_dBmV': ' 4.0',\n  'SNR_dB': '40.2',\n  'Corrected': '160',\n  'Uncorrected': '574'},\n {'timestamp': datetime.datetime(2020, 8, 27, 12, 35, 45, 272036),\n  'Channel': '5',\n  'Locked': 'Locked',\n  'Modulation': 'QAM256',\n  'Channel ID': '12',\n  'Freq_MHz': '849.0',\n  'Pwr_dBmV': ' 4.0',\n  'SNR_dB': '40.2',\n  'Corrected': '170',\n  'Uncorrected': '620'},\n {'timestamp': datetime.datetime(2020, 8, 27, 12, 35, 45, 272036),\n  'Channel': '6',\n  'Locked': 'Locked',\n  'Modulation': 'QAM256',\n  'Channel ID': '13',\n  'Freq_MHz': '855.0',\n  'Pwr_dBmV': ' 3.7',\n  'SNR_dB': '40.2',\n  'Corrected': '180',\n  'Uncorrected': '544'},\n {'timestamp': datetime.datetime(2020, 8, 27, 12, 35, 45, 272036),\n  'Channel': '7',\n  'Locked': 'Locked',\n  'Modulation': 'QAM256',\n  'Channel ID': '14',\n  'Freq_MHz': '861.0',\n  'Pwr_dBmV': ' 3.6',\n  'SNR_dB': '40.2',\n  'Corrected': '182',\n  'Uncorrected': '533'},\n {'timestamp': datetime.datetime(2020, 8, 27, 12, 35, 45, 272036),\n  'Channel': '8',\n  'Locked': 'Locked',\n  'Modulation': 'QAM256',\n  'Channel ID': '15',\n  'Freq_MHz': '867.0',\n  'Pwr_dBmV': ' 3.2',\n  'SNR_dB': '40.1',\n  'Corrected': '179',\n  'Uncorrected': '488'},\n {'timestamp': datetime.datetime(2020, 8, 27, 12, 35, 45, 272036),\n  'Channel': '9',\n  'Locked': 'Locked',\n  'Modulation': 'QAM256',\n  'Channel ID': '16',\n  'Freq_MHz': '873.0',\n  'Pwr_dBmV': ' 3.3',\n  'SNR_dB': '40.1',\n  'Corrected': '178',\n  'Uncorrected': '484'},\n {'timestamp': datetime.datetime(2020, 8, 27, 12, 35, 45, 272036),\n  'Channel': '10',\n  'Locked': 'Locked',\n  'Modulation': 'QAM256',\n  'Channel ID': '17',\n  'Freq_MHz': '879.0',\n  'Pwr_dBmV': ' 3.3',\n  'SNR_dB': '40.1',\n  'Corrected': '143',\n  'Uncorrected': '487'},\n {'timestamp': datetime.datetime(2020, 8, 27, 12, 35, 45, 272036),\n  'Channel': '11',\n  'Locked': 'Locked',\n  'Modulation': 'QAM256',\n  'Channel ID': '18',\n  'Freq_MHz': '885.0',\n  'Pwr_dBmV': ' 3.3',\n  'SNR_dB': '40.1',\n  'Corrected': '175',\n  'Uncorrected': '610'},\n {'timestamp': datetime.datetime(2020, 8, 27, 12, 35, 45, 272036),\n  'Channel': '12',\n  'Locked': 'Locked',\n  'Modulation': 'QAM256',\n  'Channel ID': '19',\n  'Freq_MHz': '891.0',\n  'Pwr_dBmV': ' 3.4',\n  'SNR_dB': '40.1',\n  'Corrected': '153',\n  'Uncorrected': '630'},\n {'timestamp': datetime.datetime(2020, 8, 27, 12, 35, 45, 272036),\n  'Channel': '13',\n  'Locked': 'Locked',\n  'Modulation': 'QAM256',\n  'Channel ID': '20',\n  'Freq_MHz': '897.0',\n  'Pwr_dBmV': ' 3.4',\n  'SNR_dB': '40.0',\n  'Corrected': '166',\n  'Uncorrected': '589'},\n {'timestamp': datetime.datetime(2020, 8, 27, 12, 35, 45, 272036),\n  'Channel': '14',\n  'Locked': 'Locked',\n  'Modulation': 'QAM256',\n  'Channel ID': '22',\n  'Freq_MHz': '909.0',\n  'Pwr_dBmV': ' 3.4',\n  'SNR_dB': '40.1',\n  'Corrected': '203',\n  'Uncorrected': '457'},\n {'timestamp': datetime.datetime(2020, 8, 27, 12, 35, 45, 272036),\n  'Channel': '15',\n  'Locked': 'Locked',\n  'Modulation': 'QAM256',\n  'Channel ID': '23',\n  'Freq_MHz': '915.0',\n  'Pwr_dBmV': ' 3.2',\n  'SNR_dB': '40.0',\n  'Corrected': '222',\n  'Uncorrected': '571'},\n {'timestamp': datetime.datetime(2020, 8, 27, 12, 35, 45, 272036),\n  'Channel': '16',\n  'Locked': 'Locked',\n  'Modulation': 'QAM256',\n  'Channel ID': '24',\n  'Freq_MHz': '921.0',\n  'Pwr_dBmV': ' 3.2',\n  'SNR_dB': '40.0',\n  'Corrected': '163',\n  'Uncorrected': '424'},\n {'timestamp': datetime.datetime(2020, 8, 27, 12, 35, 45, 272036),\n  'Channel': '17',\n  'Locked': 'Locked',\n  'Modulation': 'QAM256',\n  'Channel ID': '25',\n  'Freq_MHz': '927.0',\n  'Pwr_dBmV': ' 2.4',\n  'SNR_dB': '40.9',\n  'Corrected': '185',\n  'Uncorrected': '530'},\n {'timestamp': datetime.datetime(2020, 8, 27, 12, 35, 45, 272036),\n  'Channel': '18',\n  'Locked': 'Locked',\n  'Modulation': 'QAM256',\n  'Channel ID': '26',\n  'Freq_MHz': '933.0',\n  'Pwr_dBmV': ' 2.3',\n  'SNR_dB': '41.0',\n  'Corrected': '182',\n  'Uncorrected': '605'},\n {'timestamp': datetime.datetime(2020, 8, 27, 12, 35, 45, 272036),\n  'Channel': '19',\n  'Locked': 'Locked',\n  'Modulation': 'QAM256',\n  'Channel ID': '27',\n  'Freq_MHz': '939.0',\n  'Pwr_dBmV': ' 1.8',\n  'SNR_dB': '40.7',\n  'Corrected': '177',\n  'Uncorrected': '554'},\n {'timestamp': datetime.datetime(2020, 8, 27, 12, 35, 45, 272036),\n  'Channel': '20',\n  'Locked': 'Locked',\n  'Modulation': 'QAM256',\n  'Channel ID': '28',\n  'Freq_MHz': '945.0',\n  'Pwr_dBmV': ' 2.1',\n  'SNR_dB': '40.7',\n  'Corrected': '152',\n  'Uncorrected': '509'},\n {'timestamp': datetime.datetime(2020, 8, 27, 12, 35, 45, 272036),\n  'Channel': '21',\n  'Locked': 'Locked',\n  'Modulation': 'QAM256',\n  'Channel ID': '29',\n  'Freq_MHz': '951.0',\n  'Pwr_dBmV': ' 2.4',\n  'SNR_dB': '40.8',\n  'Corrected': '184',\n  'Uncorrected': '536'},\n {'timestamp': datetime.datetime(2020, 8, 27, 12, 35, 45, 272036),\n  'Channel': '22',\n  'Locked': 'Locked',\n  'Modulation': 'QAM256',\n  'Channel ID': '30',\n  'Freq_MHz': '957.0',\n  'Pwr_dBmV': ' 2.3',\n  'SNR_dB': '40.7',\n  'Corrected': '158',\n  'Uncorrected': '544'},\n {'timestamp': datetime.datetime(2020, 8, 27, 12, 35, 45, 272036),\n  'Channel': '23',\n  'Locked': 'Locked',\n  'Modulation': 'QAM256',\n  'Channel ID': '31',\n  'Freq_MHz': '963.0',\n  'Pwr_dBmV': ' 2.5',\n  'SNR_dB': '41.0',\n  'Corrected': '163',\n  'Uncorrected': '482'},\n {'timestamp': datetime.datetime(2020, 8, 27, 12, 35, 45, 272036),\n  'Channel': '24',\n  'Locked': 'Locked',\n  'Modulation': 'QAM256',\n  'Channel ID': '32',\n  'Freq_MHz': '969.0',\n  'Pwr_dBmV': ' 2.7',\n  'SNR_dB': '41.0',\n  'Corrected': '188',\n  'Uncorrected': '467'}]"
     },
     "metadata": {}
    },
    {
     "output_type": "display_data",
     "data": {
      "text/plain": "[{'timestamp': datetime.datetime(2020, 8, 27, 12, 35, 45, 272036),\n  'Channel': '1',\n  'Locked': 'Locked',\n  'ChannelType': 'ATDMA',\n  'ChannelId': '4',\n  'SymbRate_ksym_per_s': '5120',\n  'Freq_MHz': '16.9',\n  'Pwr_dBmV': '42.5'},\n {'timestamp': datetime.datetime(2020, 8, 27, 12, 35, 45, 272036),\n  'Channel': '2',\n  'Locked': 'Locked',\n  'ChannelType': 'ATDMA',\n  'ChannelId': '1',\n  'SymbRate_ksym_per_s': '5120',\n  'Freq_MHz': '36.3',\n  'Pwr_dBmV': '45.4'},\n {'timestamp': datetime.datetime(2020, 8, 27, 12, 35, 45, 272036),\n  'Channel': '3',\n  'Locked': 'Locked',\n  'ChannelType': 'ATDMA',\n  'ChannelId': '2',\n  'SymbRate_ksym_per_s': '5120',\n  'Freq_MHz': '29.9',\n  'Pwr_dBmV': '44.9'},\n {'timestamp': datetime.datetime(2020, 8, 27, 12, 35, 45, 272036),\n  'Channel': '4',\n  'Locked': 'Locked',\n  'ChannelType': 'ATDMA',\n  'ChannelId': '3',\n  'SymbRate_ksym_per_s': '5120',\n  'Freq_MHz': '23.5',\n  'Pwr_dBmV': '43.7'},\n {'timestamp': datetime.datetime(2020, 8, 27, 12, 35, 45, 272036),\n  'Channel': '5',\n  'Locked': 'Not Locked',\n  'ChannelType': 'Unknown',\n  'ChannelId': '0',\n  'SymbRate_ksym_per_s': '0',\n  'Freq_MHz': '0',\n  'Pwr_dBmV': ' 0.0'},\n {'timestamp': datetime.datetime(2020, 8, 27, 12, 35, 45, 272036),\n  'Channel': '6',\n  'Locked': 'Not Locked',\n  'ChannelType': 'Unknown',\n  'ChannelId': '0',\n  'SymbRate_ksym_per_s': '0',\n  'Freq_MHz': '0',\n  'Pwr_dBmV': ' 0.0'},\n {'timestamp': datetime.datetime(2020, 8, 27, 12, 35, 45, 272036),\n  'Channel': '7',\n  'Locked': 'Not Locked',\n  'ChannelType': 'Unknown',\n  'ChannelId': '0',\n  'SymbRate_ksym_per_s': '0',\n  'Freq_MHz': '0',\n  'Pwr_dBmV': ' 0.0'},\n {'timestamp': datetime.datetime(2020, 8, 27, 12, 35, 45, 272036),\n  'Channel': '8',\n  'Locked': 'Not Locked',\n  'ChannelType': 'Unknown',\n  'ChannelId': '0',\n  'SymbRate_ksym_per_s': '0',\n  'Freq_MHz': '0',\n  'Pwr_dBmV': ' 0.0'}]"
     },
     "metadata": {}
    }
   ],
   "source": [
    "with modem() as m:\n",
    "    if m.login(u,p) == True:    \n",
    "        basic,down,up = m.getMotoConnection(datetime.now())\n",
    "        display(basic)\n",
    "        display(down)\n",
    "        display(up)\n",
    "    else:\n",
    "        print('login failed')  "
   ]
  },
  {
   "cell_type": "code",
   "execution_count": 5,
   "metadata": {},
   "outputs": [
    {
     "output_type": "display_data",
     "data": {
      "text/plain": "[{'timestamp': datetime.datetime(2020, 8, 27, 12, 35, 47, 281823),\n  'time': 'Time Not Established',\n  'level': 'Critical (3)',\n  'message': 'No Ranging Response received - T3 time-out;CM-MAC=00:40:36:67:b8:f9;CMTS-MAC=2c:86:d2:88:88:ef;CM-QOS=1.0;CM-VER=3.0;'},\n {'timestamp': datetime.datetime(2020, 8, 27, 12, 35, 47, 281823),\n  'time': 'Thu Aug 20 21:23:27 2020',\n  'level': 'Critical (3)',\n  'message': 'Started Unicast Maintenance Ranging - No Response received - T3 time-out;CM-MAC=00:40:36:67:b8:f9;CMTS-MAC=2c:86:d2:88:88:ef;CM-QOS=1.1;CM-VER=3.0;'},\n {'timestamp': datetime.datetime(2020, 8, 27, 12, 35, 47, 281823),\n  'time': 'Fri Aug 21 13:53:58 2020',\n  'level': 'Critical (3)',\n  'message': 'Unicast Ranging Received Abort Response - Re-initializing MAC;CM-MAC=00:40:36:67:b8:f9;CMTS-MAC=2c:86:d2:88:88:ef;CM-QOS=1.1;CM-VER=3.0;'},\n {'timestamp': datetime.datetime(2020, 8, 27, 12, 35, 47, 281823),\n  'time': 'Fri Aug 21 13:54:14 2020',\n  'level': 'Critical (3)',\n  'message': 'Started Unicast Maintenance Ranging - No Response received - T3 time-out;CM-MAC=00:40:36:67:b8:f9;CMTS-MAC=2c:86:d2:88:88:ef;CM-QOS=1.1;CM-VER=3.0;'},\n {'timestamp': datetime.datetime(2020, 8, 27, 12, 35, 47, 281823),\n  'time': 'Sun Aug 23 09:09:38 2020',\n  'level': 'Critical (3)',\n  'message': 'Started Unicast Maintenance Ranging - No Response received - T3 time-out;CM-MAC=00:40:36:67:b8:f9;CMTS-MAC=2c:86:d2:88:88:ef;CM-QOS=1.1;CM-VER=3.0;'},\n {'timestamp': datetime.datetime(2020, 8, 27, 12, 35, 47, 281823),\n  'time': 'Sun Aug 23 09:46:11 2020',\n  'level': 'Critical (3)',\n  'message': 'Started Unicast Maintenance Ranging - No Response received - T3 time-out;CM-MAC=00:40:36:67:b8:f9;CMTS-MAC=2c:86:d2:88:88:ef;CM-QOS=1.1;CM-VER=3.0;'},\n {'timestamp': datetime.datetime(2020, 8, 27, 12, 35, 47, 281823),\n  'time': 'Sun Aug 23 09:54:16 2020',\n  'level': 'Critical (3)',\n  'message': 'Started Unicast Maintenance Ranging - No Response received - T3 time-out;CM-MAC=00:40:36:67:b8:f9;CMTS-MAC=2c:86:d2:88:88:ef;CM-QOS=1.1;CM-VER=3.0;'},\n {'timestamp': datetime.datetime(2020, 8, 27, 12, 35, 47, 281823),\n  'time': 'Mon Aug 24 09:55:03 2020',\n  'level': 'Critical (3)',\n  'message': 'Unicast Ranging Received Abort Response - Re-initializing MAC;CM-MAC=00:40:36:67:b8:f9;CMTS-MAC=2c:86:d2:88:88:ef;CM-QOS=1.1;CM-VER=3.0;'},\n {'timestamp': datetime.datetime(2020, 8, 27, 12, 35, 47, 281823),\n  'time': 'Mon Aug 24 09:55:35 2020',\n  'level': 'Critical (3)',\n  'message': 'Received Response to Broadcast Maintenance Request, But no Unicast Maintenance opportunities received - T4 time out;CM-MAC=00:40:36:67:b8:f9;CMTS-MAC=2c:86:d2:88:88:ef;CM-QOS=1.1;CM-VER=3.0;'},\n {'timestamp': datetime.datetime(2020, 8, 27, 12, 35, 47, 281823),\n  'time': 'Mon Aug 24 09:55:47 2020',\n  'level': 'Critical (3)',\n  'message': 'Started Unicast Maintenance Ranging - No Response received - T3 time-out;CM-MAC=00:40:36:67:b8:f9;CMTS-MAC=2c:86:d2:88:88:ef;CM-QOS=1.1;CM-VER=3.0;'},\n {'timestamp': datetime.datetime(2020, 8, 27, 12, 35, 47, 281823),\n  'time': 'Mon Aug 24 10:00:02 2020',\n  'level': 'Critical (3)',\n  'message': 'Unicast Ranging Received Abort Response - Re-initializing MAC;CM-MAC=00:40:36:67:b8:f9;CMTS-MAC=2c:86:d2:88:88:ef;CM-QOS=1.1;CM-VER=3.0;'},\n {'timestamp': datetime.datetime(2020, 8, 27, 12, 35, 47, 281823),\n  'time': 'Mon Aug 24 10:00:35 2020',\n  'level': 'Critical (3)',\n  'message': 'Received Response to Broadcast Maintenance Request, But no Unicast Maintenance opportunities received - T4 time out;CM-MAC=00:40:36:67:b8:f9;CMTS-MAC=2c:86:d2:88:88:ef;CM-QOS=1.1;CM-VER=3.0;'},\n {'timestamp': datetime.datetime(2020, 8, 27, 12, 35, 47, 281823),\n  'time': 'Mon Aug 24 10:01:22 2020',\n  'level': 'Critical (3)',\n  'message': 'Unicast Ranging Received Abort Response - Re-initializing MAC;CM-MAC=00:40:36:67:b8:f9;CMTS-MAC=2c:86:d2:88:88:ef;CM-QOS=1.1;CM-VER=3.0;'},\n {'timestamp': datetime.datetime(2020, 8, 27, 12, 35, 47, 281823),\n  'time': 'Mon Aug 24 10:01:55 2020',\n  'level': 'Critical (3)',\n  'message': 'Received Response to Broadcast Maintenance Request, But no Unicast Maintenance opportunities received - T4 time out;CM-MAC=00:40:36:67:b8:f9;CMTS-MAC=2c:86:d2:88:88:ef;CM-QOS=1.1;CM-VER=3.0;'},\n {'timestamp': datetime.datetime(2020, 8, 27, 12, 35, 47, 281823),\n  'time': 'Tue Aug 25 09:57:44 2020',\n  'level': 'Critical (3)',\n  'message': 'Started Unicast Maintenance Ranging - No Response received - T3 time-out;CM-MAC=00:40:36:67:b8:f9;CMTS-MAC=2c:86:d2:88:88:ef;CM-QOS=1.1;CM-VER=3.0;'},\n {'timestamp': datetime.datetime(2020, 8, 27, 12, 35, 47, 281823),\n  'time': 'Wed Aug 26 05:56:20 2020',\n  'level': 'Critical (3)',\n  'message': 'Started Unicast Maintenance Ranging - No Response received - T3 time-out;CM-MAC=00:40:36:67:b8:f9;CMTS-MAC=2c:86:d2:88:88:ef;CM-QOS=1.1;CM-VER=3.0;'},\n {'timestamp': datetime.datetime(2020, 8, 27, 12, 35, 47, 281823),\n  'time': 'Wed Aug 26 05:56:37 2020',\n  'level': 'Critical (3)',\n  'message': 'Unicast Ranging Received Abort Response - Re-initializing MAC;CM-MAC=00:40:36:67:b8:f9;CMTS-MAC=2c:86:d2:88:88:ef;CM-QOS=1.1;CM-VER=3.0;'},\n {'timestamp': datetime.datetime(2020, 8, 27, 12, 35, 47, 281823),\n  'time': 'Wed Aug 26 05:57:42 2020',\n  'level': 'Critical (3)',\n  'message': 'Received Response to Broadcast Maintenance Request, But no Unicast Maintenance opportunities received - T4 time out;CM-MAC=00:40:36:67:b8:f9;CMTS-MAC=2c:86:d2:88:88:ef;CM-QOS=1.1;CM-VER=3.0;'},\n {'timestamp': datetime.datetime(2020, 8, 27, 12, 35, 47, 281823),\n  'time': 'Wed Aug 26 11:33:45 2020',\n  'level': 'Critical (3)',\n  'message': 'Started Unicast Maintenance Ranging - No Response received - T3 time-out;CM-MAC=00:40:36:67:b8:f9;CMTS-MAC=2c:86:d2:88:88:ef;CM-QOS=1.1;CM-VER=3.0;'},\n {'timestamp': datetime.datetime(2020, 8, 27, 12, 35, 47, 281823),\n  'time': 'Time Not Established',\n  'level': 'Critical (3)',\n  'message': 'No Ranging Response received - T3 time-out;CM-MAC=00:40:36:67:b8:f9;CMTS-MAC=2c:86:d2:88:88:ef;CM-QOS=1.0;CM-VER=3.0;'},\n {'timestamp': datetime.datetime(2020, 8, 27, 12, 35, 47, 281823),\n  'time': 'Wed Aug 26 16:45:25 2020',\n  'level': 'Critical (3)',\n  'message': 'Resetting the cable modem due to docsDevResetNow'},\n {'timestamp': datetime.datetime(2020, 8, 27, 12, 35, 47, 281823),\n  'time': 'Time Not Established',\n  'level': 'Critical (3)',\n  'message': 'No Ranging Response received - T3 time-out;CM-MAC=00:40:36:67:b8:f9;CMTS-MAC=2c:86:d2:88:88:ef;CM-QOS=1.0;CM-VER=3.0;'},\n {'timestamp': datetime.datetime(2020, 8, 27, 12, 35, 47, 281823),\n  'time': 'Time Not Established',\n  'level': 'Notice (6)',\n  'message': 'Honoring MDD; IP provisioning mode = IPv4'},\n {'timestamp': datetime.datetime(2020, 8, 27, 12, 35, 47, 281823),\n  'time': 'Wed Aug 26 16:46:14 2020',\n  'level': 'Warning (5)',\n  'message': 'DHCP WARNING - Non-critical field invalid in response ;CM-MAC=00:40:36:67:b8:f9;CMTS-MAC=2c:86:d2:88:88:ef;CM-QOS=1.1;CM-VER=3.0;'},\n {'timestamp': datetime.datetime(2020, 8, 27, 12, 35, 47, 281823),\n  'time': 'Wed Aug 26 16:46:14 2020',\n  'level': 'Notice (6)',\n  'message': 'TLV-11 - unrecognized OID;CM-MAC=00:40:36:67:b8:f9;CMTS-MAC=2c:86:d2:88:88:ef;CM-QOS=1.1;CM-VER=3.0;'},\n {'timestamp': datetime.datetime(2020, 8, 27, 12, 35, 47, 281823),\n  'time': 'Thu Aug 27 10:05:56 2020',\n  'level': 'Critical (3)',\n  'message': 'Started Unicast Maintenance Ranging - No Response received - T3 time-out;CM-MAC=00:40:36:67:b8:f9;CMTS-MAC=2c:86:d2:88:88:ef;CM-QOS=1.1;CM-VER=3.0;'},\n {'timestamp': datetime.datetime(2020, 8, 27, 12, 35, 47, 281823),\n  'time': 'Thu Aug 27 10:07:36 2020',\n  'level': 'Warning (5)',\n  'message': 'Dynamic Range Window violation'},\n {'timestamp': datetime.datetime(2020, 8, 27, 12, 35, 47, 281823),\n  'time': 'Thu Aug 27 10:35:14 2020',\n  'level': 'Critical (3)',\n  'message': 'Started Unicast Maintenance Ranging - No Response received - T3 time-out;CM-MAC=00:40:36:67:b8:f9;CMTS-MAC=2c:86:d2:88:88:ef;CM-QOS=1.1;CM-VER=3.0;'}]"
     },
     "metadata": {}
    }
   ],
   "source": [
    "with modem() as m:\n",
    "    if m.login(u,p) == True:    \n",
    "        log = m.getMotoSnmpLog(datetime.now())\n",
    "        display(log)\n",
    "    else:\n",
    "        print('login failed')  "
   ]
  },
  {
   "cell_type": "markdown",
   "metadata": {},
   "source": [
    "## You can convert the results to a pandas dataframe"
   ]
  },
  {
   "cell_type": "code",
   "execution_count": 6,
   "metadata": {},
   "outputs": [],
   "source": [
    "import pandas as pd"
   ]
  },
  {
   "cell_type": "code",
   "execution_count": 7,
   "metadata": {},
   "outputs": [
    {
     "output_type": "display_data",
     "data": {
      "text/plain": "                   timestamp OnlineStatus Downstream Upstream  \\\n0 2020-08-27 12:35:48.444093    Connected         24        4   \n\n                 MAC        IPv4 IPv6 SoftwareVersion  \n0  00:40:36:67:b8:f9  10.73.7.11   ::    7621-5.7.1.5  ",
      "text/html": "<div>\n<style scoped>\n    .dataframe tbody tr th:only-of-type {\n        vertical-align: middle;\n    }\n\n    .dataframe tbody tr th {\n        vertical-align: top;\n    }\n\n    .dataframe thead th {\n        text-align: right;\n    }\n</style>\n<table border=\"1\" class=\"dataframe\">\n  <thead>\n    <tr style=\"text-align: right;\">\n      <th></th>\n      <th>timestamp</th>\n      <th>OnlineStatus</th>\n      <th>Downstream</th>\n      <th>Upstream</th>\n      <th>MAC</th>\n      <th>IPv4</th>\n      <th>IPv6</th>\n      <th>SoftwareVersion</th>\n    </tr>\n  </thead>\n  <tbody>\n    <tr>\n      <th>0</th>\n      <td>2020-08-27 12:35:48.444093</td>\n      <td>Connected</td>\n      <td>24</td>\n      <td>4</td>\n      <td>00:40:36:67:b8:f9</td>\n      <td>10.73.7.11</td>\n      <td>::</td>\n      <td>7621-5.7.1.5</td>\n    </tr>\n  </tbody>\n</table>\n</div>"
     },
     "metadata": {}
    }
   ],
   "source": [
    "with modem() as m:\n",
    "    if m.login(u,p) == True:    \n",
    "        home = m.getMotoHome(datetime.now())\n",
    "        display(pd.DataFrame(home))\n",
    "    else:\n",
    "        print('login failed')  "
   ]
  },
  {
   "cell_type": "code",
   "execution_count": 8,
   "metadata": {},
   "outputs": [
    {
     "output_type": "display_data",
     "data": {
      "text/plain": "                   timestamp      DOCSIS HardwareVersion SoftwareVersion  \\\n0 2020-08-27 12:35:50.111831  DOCSIS 3.0            V1.0    7621-5.7.1.5   \n\n            ModemMAC          ModemSerial CMCertStatus CMCertValue  \n0  00:40:36:67:b8:f9  1300-MB7621-30-0377    Installed    5.7.1mp4  ",
      "text/html": "<div>\n<style scoped>\n    .dataframe tbody tr th:only-of-type {\n        vertical-align: middle;\n    }\n\n    .dataframe tbody tr th {\n        vertical-align: top;\n    }\n\n    .dataframe thead th {\n        text-align: right;\n    }\n</style>\n<table border=\"1\" class=\"dataframe\">\n  <thead>\n    <tr style=\"text-align: right;\">\n      <th></th>\n      <th>timestamp</th>\n      <th>DOCSIS</th>\n      <th>HardwareVersion</th>\n      <th>SoftwareVersion</th>\n      <th>ModemMAC</th>\n      <th>ModemSerial</th>\n      <th>CMCertStatus</th>\n      <th>CMCertValue</th>\n    </tr>\n  </thead>\n  <tbody>\n    <tr>\n      <th>0</th>\n      <td>2020-08-27 12:35:50.111831</td>\n      <td>DOCSIS 3.0</td>\n      <td>V1.0</td>\n      <td>7621-5.7.1.5</td>\n      <td>00:40:36:67:b8:f9</td>\n      <td>1300-MB7621-30-0377</td>\n      <td>Installed</td>\n      <td>5.7.1mp4</td>\n    </tr>\n  </tbody>\n</table>\n</div>"
     },
     "metadata": {}
    }
   ],
   "source": [
    "with modem() as m:\n",
    "    if m.login(u,p) == True:    \n",
    "        home = m.getMotoSwInfo(datetime.now())\n",
    "        display(pd.DataFrame(home))\n",
    "    else:\n",
    "        print('login failed')  "
   ]
  },
  {
   "cell_type": "code",
   "execution_count": 9,
   "metadata": {},
   "outputs": [
    {
     "output_type": "display_data",
     "data": {
      "text/plain": "                   timestamp      downFreq downStatus upStatus1    upStatus2  \\\n0 2020-08-27 12:35:52.242972  903000000 Hz     Locked        OK  Operational   \n\n  bootStatus1  bootStatus2 configStatus1        configStatus2 securityStatus1  \\\n0          OK  Operational            OK  ^1/742A818B/141/001         Enabled   \n\n  securityStatus2        systemUpTime networkAccess  \n0            BPI+  0 days 19h:50m:25s       Allowed  ",
      "text/html": "<div>\n<style scoped>\n    .dataframe tbody tr th:only-of-type {\n        vertical-align: middle;\n    }\n\n    .dataframe tbody tr th {\n        vertical-align: top;\n    }\n\n    .dataframe thead th {\n        text-align: right;\n    }\n</style>\n<table border=\"1\" class=\"dataframe\">\n  <thead>\n    <tr style=\"text-align: right;\">\n      <th></th>\n      <th>timestamp</th>\n      <th>downFreq</th>\n      <th>downStatus</th>\n      <th>upStatus1</th>\n      <th>upStatus2</th>\n      <th>bootStatus1</th>\n      <th>bootStatus2</th>\n      <th>configStatus1</th>\n      <th>configStatus2</th>\n      <th>securityStatus1</th>\n      <th>securityStatus2</th>\n      <th>systemUpTime</th>\n      <th>networkAccess</th>\n    </tr>\n  </thead>\n  <tbody>\n    <tr>\n      <th>0</th>\n      <td>2020-08-27 12:35:52.242972</td>\n      <td>903000000 Hz</td>\n      <td>Locked</td>\n      <td>OK</td>\n      <td>Operational</td>\n      <td>OK</td>\n      <td>Operational</td>\n      <td>OK</td>\n      <td>^1/742A818B/141/001</td>\n      <td>Enabled</td>\n      <td>BPI+</td>\n      <td>0 days 19h:50m:25s</td>\n      <td>Allowed</td>\n    </tr>\n  </tbody>\n</table>\n</div>"
     },
     "metadata": {}
    },
    {
     "output_type": "display_data",
     "data": {
      "text/plain": "                    timestamp Channel  Locked Modulation Channel ID Freq_MHz  \\\n0  2020-08-27 12:35:52.242972       1  Locked     QAM256         21    903.0   \n1  2020-08-27 12:35:52.242972       2  Locked     QAM256          9    831.0   \n2  2020-08-27 12:35:52.242972       3  Locked     QAM256         10    837.0   \n3  2020-08-27 12:35:52.242972       4  Locked     QAM256         11    843.0   \n4  2020-08-27 12:35:52.242972       5  Locked     QAM256         12    849.0   \n5  2020-08-27 12:35:52.242972       6  Locked     QAM256         13    855.0   \n6  2020-08-27 12:35:52.242972       7  Locked     QAM256         14    861.0   \n7  2020-08-27 12:35:52.242972       8  Locked     QAM256         15    867.0   \n8  2020-08-27 12:35:52.242972       9  Locked     QAM256         16    873.0   \n9  2020-08-27 12:35:52.242972      10  Locked     QAM256         17    879.0   \n10 2020-08-27 12:35:52.242972      11  Locked     QAM256         18    885.0   \n11 2020-08-27 12:35:52.242972      12  Locked     QAM256         19    891.0   \n12 2020-08-27 12:35:52.242972      13  Locked     QAM256         20    897.0   \n13 2020-08-27 12:35:52.242972      14  Locked     QAM256         22    909.0   \n14 2020-08-27 12:35:52.242972      15  Locked     QAM256         23    915.0   \n15 2020-08-27 12:35:52.242972      16  Locked     QAM256         24    921.0   \n16 2020-08-27 12:35:52.242972      17  Locked     QAM256         25    927.0   \n17 2020-08-27 12:35:52.242972      18  Locked     QAM256         26    933.0   \n18 2020-08-27 12:35:52.242972      19  Locked     QAM256         27    939.0   \n19 2020-08-27 12:35:52.242972      20  Locked     QAM256         28    945.0   \n20 2020-08-27 12:35:52.242972      21  Locked     QAM256         29    951.0   \n21 2020-08-27 12:35:52.242972      22  Locked     QAM256         30    957.0   \n22 2020-08-27 12:35:52.242972      23  Locked     QAM256         31    963.0   \n23 2020-08-27 12:35:52.242972      24  Locked     QAM256         32    969.0   \n\n   Pwr_dBmV SNR_dB Corrected Uncorrected  \n0       3.4   40.1       202         576  \n1       3.9   40.2       154         559  \n2       4.0   40.3       172         482  \n3       4.0   40.2       160         574  \n4       4.0   40.2       170         620  \n5       3.7   40.2       180         544  \n6       3.6   40.2       182         533  \n7       3.3   40.0       179         488  \n8       3.3   40.1       178         484  \n9       3.3   40.1       143         487  \n10      3.3   40.1       175         610  \n11      3.4   40.1       153         630  \n12      3.4   40.0       166         589  \n13      3.4   40.1       203         457  \n14      3.2   40.0       222         571  \n15      3.2   40.0       163         424  \n16      2.4   40.9       185         530  \n17      2.2   40.9       182         605  \n18      1.9   40.9       177         554  \n19      2.1   40.7       152         509  \n20      2.4   40.9       184         536  \n21      2.3   40.7       158         544  \n22      2.5   41.0       163         482  \n23      2.7   40.8       188         467  ",
      "text/html": "<div>\n<style scoped>\n    .dataframe tbody tr th:only-of-type {\n        vertical-align: middle;\n    }\n\n    .dataframe tbody tr th {\n        vertical-align: top;\n    }\n\n    .dataframe thead th {\n        text-align: right;\n    }\n</style>\n<table border=\"1\" class=\"dataframe\">\n  <thead>\n    <tr style=\"text-align: right;\">\n      <th></th>\n      <th>timestamp</th>\n      <th>Channel</th>\n      <th>Locked</th>\n      <th>Modulation</th>\n      <th>Channel ID</th>\n      <th>Freq_MHz</th>\n      <th>Pwr_dBmV</th>\n      <th>SNR_dB</th>\n      <th>Corrected</th>\n      <th>Uncorrected</th>\n    </tr>\n  </thead>\n  <tbody>\n    <tr>\n      <th>0</th>\n      <td>2020-08-27 12:35:52.242972</td>\n      <td>1</td>\n      <td>Locked</td>\n      <td>QAM256</td>\n      <td>21</td>\n      <td>903.0</td>\n      <td>3.4</td>\n      <td>40.1</td>\n      <td>202</td>\n      <td>576</td>\n    </tr>\n    <tr>\n      <th>1</th>\n      <td>2020-08-27 12:35:52.242972</td>\n      <td>2</td>\n      <td>Locked</td>\n      <td>QAM256</td>\n      <td>9</td>\n      <td>831.0</td>\n      <td>3.9</td>\n      <td>40.2</td>\n      <td>154</td>\n      <td>559</td>\n    </tr>\n    <tr>\n      <th>2</th>\n      <td>2020-08-27 12:35:52.242972</td>\n      <td>3</td>\n      <td>Locked</td>\n      <td>QAM256</td>\n      <td>10</td>\n      <td>837.0</td>\n      <td>4.0</td>\n      <td>40.3</td>\n      <td>172</td>\n      <td>482</td>\n    </tr>\n    <tr>\n      <th>3</th>\n      <td>2020-08-27 12:35:52.242972</td>\n      <td>4</td>\n      <td>Locked</td>\n      <td>QAM256</td>\n      <td>11</td>\n      <td>843.0</td>\n      <td>4.0</td>\n      <td>40.2</td>\n      <td>160</td>\n      <td>574</td>\n    </tr>\n    <tr>\n      <th>4</th>\n      <td>2020-08-27 12:35:52.242972</td>\n      <td>5</td>\n      <td>Locked</td>\n      <td>QAM256</td>\n      <td>12</td>\n      <td>849.0</td>\n      <td>4.0</td>\n      <td>40.2</td>\n      <td>170</td>\n      <td>620</td>\n    </tr>\n    <tr>\n      <th>5</th>\n      <td>2020-08-27 12:35:52.242972</td>\n      <td>6</td>\n      <td>Locked</td>\n      <td>QAM256</td>\n      <td>13</td>\n      <td>855.0</td>\n      <td>3.7</td>\n      <td>40.2</td>\n      <td>180</td>\n      <td>544</td>\n    </tr>\n    <tr>\n      <th>6</th>\n      <td>2020-08-27 12:35:52.242972</td>\n      <td>7</td>\n      <td>Locked</td>\n      <td>QAM256</td>\n      <td>14</td>\n      <td>861.0</td>\n      <td>3.6</td>\n      <td>40.2</td>\n      <td>182</td>\n      <td>533</td>\n    </tr>\n    <tr>\n      <th>7</th>\n      <td>2020-08-27 12:35:52.242972</td>\n      <td>8</td>\n      <td>Locked</td>\n      <td>QAM256</td>\n      <td>15</td>\n      <td>867.0</td>\n      <td>3.3</td>\n      <td>40.0</td>\n      <td>179</td>\n      <td>488</td>\n    </tr>\n    <tr>\n      <th>8</th>\n      <td>2020-08-27 12:35:52.242972</td>\n      <td>9</td>\n      <td>Locked</td>\n      <td>QAM256</td>\n      <td>16</td>\n      <td>873.0</td>\n      <td>3.3</td>\n      <td>40.1</td>\n      <td>178</td>\n      <td>484</td>\n    </tr>\n    <tr>\n      <th>9</th>\n      <td>2020-08-27 12:35:52.242972</td>\n      <td>10</td>\n      <td>Locked</td>\n      <td>QAM256</td>\n      <td>17</td>\n      <td>879.0</td>\n      <td>3.3</td>\n      <td>40.1</td>\n      <td>143</td>\n      <td>487</td>\n    </tr>\n    <tr>\n      <th>10</th>\n      <td>2020-08-27 12:35:52.242972</td>\n      <td>11</td>\n      <td>Locked</td>\n      <td>QAM256</td>\n      <td>18</td>\n      <td>885.0</td>\n      <td>3.3</td>\n      <td>40.1</td>\n      <td>175</td>\n      <td>610</td>\n    </tr>\n    <tr>\n      <th>11</th>\n      <td>2020-08-27 12:35:52.242972</td>\n      <td>12</td>\n      <td>Locked</td>\n      <td>QAM256</td>\n      <td>19</td>\n      <td>891.0</td>\n      <td>3.4</td>\n      <td>40.1</td>\n      <td>153</td>\n      <td>630</td>\n    </tr>\n    <tr>\n      <th>12</th>\n      <td>2020-08-27 12:35:52.242972</td>\n      <td>13</td>\n      <td>Locked</td>\n      <td>QAM256</td>\n      <td>20</td>\n      <td>897.0</td>\n      <td>3.4</td>\n      <td>40.0</td>\n      <td>166</td>\n      <td>589</td>\n    </tr>\n    <tr>\n      <th>13</th>\n      <td>2020-08-27 12:35:52.242972</td>\n      <td>14</td>\n      <td>Locked</td>\n      <td>QAM256</td>\n      <td>22</td>\n      <td>909.0</td>\n      <td>3.4</td>\n      <td>40.1</td>\n      <td>203</td>\n      <td>457</td>\n    </tr>\n    <tr>\n      <th>14</th>\n      <td>2020-08-27 12:35:52.242972</td>\n      <td>15</td>\n      <td>Locked</td>\n      <td>QAM256</td>\n      <td>23</td>\n      <td>915.0</td>\n      <td>3.2</td>\n      <td>40.0</td>\n      <td>222</td>\n      <td>571</td>\n    </tr>\n    <tr>\n      <th>15</th>\n      <td>2020-08-27 12:35:52.242972</td>\n      <td>16</td>\n      <td>Locked</td>\n      <td>QAM256</td>\n      <td>24</td>\n      <td>921.0</td>\n      <td>3.2</td>\n      <td>40.0</td>\n      <td>163</td>\n      <td>424</td>\n    </tr>\n    <tr>\n      <th>16</th>\n      <td>2020-08-27 12:35:52.242972</td>\n      <td>17</td>\n      <td>Locked</td>\n      <td>QAM256</td>\n      <td>25</td>\n      <td>927.0</td>\n      <td>2.4</td>\n      <td>40.9</td>\n      <td>185</td>\n      <td>530</td>\n    </tr>\n    <tr>\n      <th>17</th>\n      <td>2020-08-27 12:35:52.242972</td>\n      <td>18</td>\n      <td>Locked</td>\n      <td>QAM256</td>\n      <td>26</td>\n      <td>933.0</td>\n      <td>2.2</td>\n      <td>40.9</td>\n      <td>182</td>\n      <td>605</td>\n    </tr>\n    <tr>\n      <th>18</th>\n      <td>2020-08-27 12:35:52.242972</td>\n      <td>19</td>\n      <td>Locked</td>\n      <td>QAM256</td>\n      <td>27</td>\n      <td>939.0</td>\n      <td>1.9</td>\n      <td>40.9</td>\n      <td>177</td>\n      <td>554</td>\n    </tr>\n    <tr>\n      <th>19</th>\n      <td>2020-08-27 12:35:52.242972</td>\n      <td>20</td>\n      <td>Locked</td>\n      <td>QAM256</td>\n      <td>28</td>\n      <td>945.0</td>\n      <td>2.1</td>\n      <td>40.7</td>\n      <td>152</td>\n      <td>509</td>\n    </tr>\n    <tr>\n      <th>20</th>\n      <td>2020-08-27 12:35:52.242972</td>\n      <td>21</td>\n      <td>Locked</td>\n      <td>QAM256</td>\n      <td>29</td>\n      <td>951.0</td>\n      <td>2.4</td>\n      <td>40.9</td>\n      <td>184</td>\n      <td>536</td>\n    </tr>\n    <tr>\n      <th>21</th>\n      <td>2020-08-27 12:35:52.242972</td>\n      <td>22</td>\n      <td>Locked</td>\n      <td>QAM256</td>\n      <td>30</td>\n      <td>957.0</td>\n      <td>2.3</td>\n      <td>40.7</td>\n      <td>158</td>\n      <td>544</td>\n    </tr>\n    <tr>\n      <th>22</th>\n      <td>2020-08-27 12:35:52.242972</td>\n      <td>23</td>\n      <td>Locked</td>\n      <td>QAM256</td>\n      <td>31</td>\n      <td>963.0</td>\n      <td>2.5</td>\n      <td>41.0</td>\n      <td>163</td>\n      <td>482</td>\n    </tr>\n    <tr>\n      <th>23</th>\n      <td>2020-08-27 12:35:52.242972</td>\n      <td>24</td>\n      <td>Locked</td>\n      <td>QAM256</td>\n      <td>32</td>\n      <td>969.0</td>\n      <td>2.7</td>\n      <td>40.8</td>\n      <td>188</td>\n      <td>467</td>\n    </tr>\n  </tbody>\n</table>\n</div>"
     },
     "metadata": {}
    },
    {
     "output_type": "display_data",
     "data": {
      "text/plain": "                   timestamp Channel      Locked ChannelType ChannelId  \\\n0 2020-08-27 12:35:52.242972       1      Locked       ATDMA         4   \n1 2020-08-27 12:35:52.242972       2      Locked       ATDMA         1   \n2 2020-08-27 12:35:52.242972       3      Locked       ATDMA         2   \n3 2020-08-27 12:35:52.242972       4      Locked       ATDMA         3   \n4 2020-08-27 12:35:52.242972       5  Not Locked     Unknown         0   \n5 2020-08-27 12:35:52.242972       6  Not Locked     Unknown         0   \n6 2020-08-27 12:35:52.242972       7  Not Locked     Unknown         0   \n7 2020-08-27 12:35:52.242972       8  Not Locked     Unknown         0   \n\n  SymbRate_ksym_per_s Freq_MHz Pwr_dBmV  \n0                5120     16.9     42.5  \n1                5120     36.3     45.4  \n2                5120     29.9     44.9  \n3                5120     23.5     43.7  \n4                   0        0      0.0  \n5                   0        0      0.0  \n6                   0        0      0.0  \n7                   0        0      0.0  ",
      "text/html": "<div>\n<style scoped>\n    .dataframe tbody tr th:only-of-type {\n        vertical-align: middle;\n    }\n\n    .dataframe tbody tr th {\n        vertical-align: top;\n    }\n\n    .dataframe thead th {\n        text-align: right;\n    }\n</style>\n<table border=\"1\" class=\"dataframe\">\n  <thead>\n    <tr style=\"text-align: right;\">\n      <th></th>\n      <th>timestamp</th>\n      <th>Channel</th>\n      <th>Locked</th>\n      <th>ChannelType</th>\n      <th>ChannelId</th>\n      <th>SymbRate_ksym_per_s</th>\n      <th>Freq_MHz</th>\n      <th>Pwr_dBmV</th>\n    </tr>\n  </thead>\n  <tbody>\n    <tr>\n      <th>0</th>\n      <td>2020-08-27 12:35:52.242972</td>\n      <td>1</td>\n      <td>Locked</td>\n      <td>ATDMA</td>\n      <td>4</td>\n      <td>5120</td>\n      <td>16.9</td>\n      <td>42.5</td>\n    </tr>\n    <tr>\n      <th>1</th>\n      <td>2020-08-27 12:35:52.242972</td>\n      <td>2</td>\n      <td>Locked</td>\n      <td>ATDMA</td>\n      <td>1</td>\n      <td>5120</td>\n      <td>36.3</td>\n      <td>45.4</td>\n    </tr>\n    <tr>\n      <th>2</th>\n      <td>2020-08-27 12:35:52.242972</td>\n      <td>3</td>\n      <td>Locked</td>\n      <td>ATDMA</td>\n      <td>2</td>\n      <td>5120</td>\n      <td>29.9</td>\n      <td>44.9</td>\n    </tr>\n    <tr>\n      <th>3</th>\n      <td>2020-08-27 12:35:52.242972</td>\n      <td>4</td>\n      <td>Locked</td>\n      <td>ATDMA</td>\n      <td>3</td>\n      <td>5120</td>\n      <td>23.5</td>\n      <td>43.7</td>\n    </tr>\n    <tr>\n      <th>4</th>\n      <td>2020-08-27 12:35:52.242972</td>\n      <td>5</td>\n      <td>Not Locked</td>\n      <td>Unknown</td>\n      <td>0</td>\n      <td>0</td>\n      <td>0</td>\n      <td>0.0</td>\n    </tr>\n    <tr>\n      <th>5</th>\n      <td>2020-08-27 12:35:52.242972</td>\n      <td>6</td>\n      <td>Not Locked</td>\n      <td>Unknown</td>\n      <td>0</td>\n      <td>0</td>\n      <td>0</td>\n      <td>0.0</td>\n    </tr>\n    <tr>\n      <th>6</th>\n      <td>2020-08-27 12:35:52.242972</td>\n      <td>7</td>\n      <td>Not Locked</td>\n      <td>Unknown</td>\n      <td>0</td>\n      <td>0</td>\n      <td>0</td>\n      <td>0.0</td>\n    </tr>\n    <tr>\n      <th>7</th>\n      <td>2020-08-27 12:35:52.242972</td>\n      <td>8</td>\n      <td>Not Locked</td>\n      <td>Unknown</td>\n      <td>0</td>\n      <td>0</td>\n      <td>0</td>\n      <td>0.0</td>\n    </tr>\n  </tbody>\n</table>\n</div>"
     },
     "metadata": {}
    }
   ],
   "source": [
    "with modem() as m:\n",
    "    if m.login(u,p) == True:    \n",
    "        basic,down,up = m.getMotoConnection(datetime.now())\n",
    "        display(pd.DataFrame(basic))\n",
    "        display(pd.DataFrame(down))\n",
    "        display(pd.DataFrame(up))\n",
    "    else:\n",
    "        print('login failed')  "
   ]
  },
  {
   "cell_type": "code",
   "execution_count": 10,
   "metadata": {},
   "outputs": [
    {
     "output_type": "display_data",
     "data": {
      "text/plain": "                    timestamp                      time         level  \\\n0  2020-08-27 12:35:54.559828      Time Not Established  Critical (3)   \n1  2020-08-27 12:35:54.559828  Thu Aug 20 21:23:27 2020  Critical (3)   \n2  2020-08-27 12:35:54.559828  Fri Aug 21 13:53:58 2020  Critical (3)   \n3  2020-08-27 12:35:54.559828  Fri Aug 21 13:54:14 2020  Critical (3)   \n4  2020-08-27 12:35:54.559828  Sun Aug 23 09:09:38 2020  Critical (3)   \n5  2020-08-27 12:35:54.559828  Sun Aug 23 09:46:11 2020  Critical (3)   \n6  2020-08-27 12:35:54.559828  Sun Aug 23 09:54:16 2020  Critical (3)   \n7  2020-08-27 12:35:54.559828  Mon Aug 24 09:55:03 2020  Critical (3)   \n8  2020-08-27 12:35:54.559828  Mon Aug 24 09:55:35 2020  Critical (3)   \n9  2020-08-27 12:35:54.559828  Mon Aug 24 09:55:47 2020  Critical (3)   \n10 2020-08-27 12:35:54.559828  Mon Aug 24 10:00:02 2020  Critical (3)   \n11 2020-08-27 12:35:54.559828  Mon Aug 24 10:00:35 2020  Critical (3)   \n12 2020-08-27 12:35:54.559828  Mon Aug 24 10:01:22 2020  Critical (3)   \n13 2020-08-27 12:35:54.559828  Mon Aug 24 10:01:55 2020  Critical (3)   \n14 2020-08-27 12:35:54.559828  Tue Aug 25 09:57:44 2020  Critical (3)   \n15 2020-08-27 12:35:54.559828  Wed Aug 26 05:56:20 2020  Critical (3)   \n16 2020-08-27 12:35:54.559828  Wed Aug 26 05:56:37 2020  Critical (3)   \n17 2020-08-27 12:35:54.559828  Wed Aug 26 05:57:42 2020  Critical (3)   \n18 2020-08-27 12:35:54.559828  Wed Aug 26 11:33:45 2020  Critical (3)   \n19 2020-08-27 12:35:54.559828      Time Not Established  Critical (3)   \n20 2020-08-27 12:35:54.559828  Wed Aug 26 16:45:25 2020  Critical (3)   \n21 2020-08-27 12:35:54.559828      Time Not Established  Critical (3)   \n22 2020-08-27 12:35:54.559828      Time Not Established    Notice (6)   \n23 2020-08-27 12:35:54.559828  Wed Aug 26 16:46:14 2020   Warning (5)   \n24 2020-08-27 12:35:54.559828  Wed Aug 26 16:46:14 2020    Notice (6)   \n25 2020-08-27 12:35:54.559828  Thu Aug 27 10:05:56 2020  Critical (3)   \n26 2020-08-27 12:35:54.559828  Thu Aug 27 10:07:36 2020   Warning (5)   \n27 2020-08-27 12:35:54.559828  Thu Aug 27 10:35:14 2020  Critical (3)   \n\n                                              message  \n0   No Ranging Response received - T3 time-out;CM-...  \n1   Started Unicast Maintenance Ranging - No Respo...  \n2   Unicast Ranging Received Abort Response - Re-i...  \n3   Started Unicast Maintenance Ranging - No Respo...  \n4   Started Unicast Maintenance Ranging - No Respo...  \n5   Started Unicast Maintenance Ranging - No Respo...  \n6   Started Unicast Maintenance Ranging - No Respo...  \n7   Unicast Ranging Received Abort Response - Re-i...  \n8   Received Response to Broadcast Maintenance Req...  \n9   Started Unicast Maintenance Ranging - No Respo...  \n10  Unicast Ranging Received Abort Response - Re-i...  \n11  Received Response to Broadcast Maintenance Req...  \n12  Unicast Ranging Received Abort Response - Re-i...  \n13  Received Response to Broadcast Maintenance Req...  \n14  Started Unicast Maintenance Ranging - No Respo...  \n15  Started Unicast Maintenance Ranging - No Respo...  \n16  Unicast Ranging Received Abort Response - Re-i...  \n17  Received Response to Broadcast Maintenance Req...  \n18  Started Unicast Maintenance Ranging - No Respo...  \n19  No Ranging Response received - T3 time-out;CM-...  \n20   Resetting the cable modem due to docsDevResetNow  \n21  No Ranging Response received - T3 time-out;CM-...  \n22          Honoring MDD; IP provisioning mode = IPv4  \n23  DHCP WARNING - Non-critical field invalid in r...  \n24  TLV-11 - unrecognized OID;CM-MAC=00:40:36:67:b...  \n25  Started Unicast Maintenance Ranging - No Respo...  \n26                     Dynamic Range Window violation  \n27  Started Unicast Maintenance Ranging - No Respo...  ",
      "text/html": "<div>\n<style scoped>\n    .dataframe tbody tr th:only-of-type {\n        vertical-align: middle;\n    }\n\n    .dataframe tbody tr th {\n        vertical-align: top;\n    }\n\n    .dataframe thead th {\n        text-align: right;\n    }\n</style>\n<table border=\"1\" class=\"dataframe\">\n  <thead>\n    <tr style=\"text-align: right;\">\n      <th></th>\n      <th>timestamp</th>\n      <th>time</th>\n      <th>level</th>\n      <th>message</th>\n    </tr>\n  </thead>\n  <tbody>\n    <tr>\n      <th>0</th>\n      <td>2020-08-27 12:35:54.559828</td>\n      <td>Time Not Established</td>\n      <td>Critical (3)</td>\n      <td>No Ranging Response received - T3 time-out;CM-...</td>\n    </tr>\n    <tr>\n      <th>1</th>\n      <td>2020-08-27 12:35:54.559828</td>\n      <td>Thu Aug 20 21:23:27 2020</td>\n      <td>Critical (3)</td>\n      <td>Started Unicast Maintenance Ranging - No Respo...</td>\n    </tr>\n    <tr>\n      <th>2</th>\n      <td>2020-08-27 12:35:54.559828</td>\n      <td>Fri Aug 21 13:53:58 2020</td>\n      <td>Critical (3)</td>\n      <td>Unicast Ranging Received Abort Response - Re-i...</td>\n    </tr>\n    <tr>\n      <th>3</th>\n      <td>2020-08-27 12:35:54.559828</td>\n      <td>Fri Aug 21 13:54:14 2020</td>\n      <td>Critical (3)</td>\n      <td>Started Unicast Maintenance Ranging - No Respo...</td>\n    </tr>\n    <tr>\n      <th>4</th>\n      <td>2020-08-27 12:35:54.559828</td>\n      <td>Sun Aug 23 09:09:38 2020</td>\n      <td>Critical (3)</td>\n      <td>Started Unicast Maintenance Ranging - No Respo...</td>\n    </tr>\n    <tr>\n      <th>5</th>\n      <td>2020-08-27 12:35:54.559828</td>\n      <td>Sun Aug 23 09:46:11 2020</td>\n      <td>Critical (3)</td>\n      <td>Started Unicast Maintenance Ranging - No Respo...</td>\n    </tr>\n    <tr>\n      <th>6</th>\n      <td>2020-08-27 12:35:54.559828</td>\n      <td>Sun Aug 23 09:54:16 2020</td>\n      <td>Critical (3)</td>\n      <td>Started Unicast Maintenance Ranging - No Respo...</td>\n    </tr>\n    <tr>\n      <th>7</th>\n      <td>2020-08-27 12:35:54.559828</td>\n      <td>Mon Aug 24 09:55:03 2020</td>\n      <td>Critical (3)</td>\n      <td>Unicast Ranging Received Abort Response - Re-i...</td>\n    </tr>\n    <tr>\n      <th>8</th>\n      <td>2020-08-27 12:35:54.559828</td>\n      <td>Mon Aug 24 09:55:35 2020</td>\n      <td>Critical (3)</td>\n      <td>Received Response to Broadcast Maintenance Req...</td>\n    </tr>\n    <tr>\n      <th>9</th>\n      <td>2020-08-27 12:35:54.559828</td>\n      <td>Mon Aug 24 09:55:47 2020</td>\n      <td>Critical (3)</td>\n      <td>Started Unicast Maintenance Ranging - No Respo...</td>\n    </tr>\n    <tr>\n      <th>10</th>\n      <td>2020-08-27 12:35:54.559828</td>\n      <td>Mon Aug 24 10:00:02 2020</td>\n      <td>Critical (3)</td>\n      <td>Unicast Ranging Received Abort Response - Re-i...</td>\n    </tr>\n    <tr>\n      <th>11</th>\n      <td>2020-08-27 12:35:54.559828</td>\n      <td>Mon Aug 24 10:00:35 2020</td>\n      <td>Critical (3)</td>\n      <td>Received Response to Broadcast Maintenance Req...</td>\n    </tr>\n    <tr>\n      <th>12</th>\n      <td>2020-08-27 12:35:54.559828</td>\n      <td>Mon Aug 24 10:01:22 2020</td>\n      <td>Critical (3)</td>\n      <td>Unicast Ranging Received Abort Response - Re-i...</td>\n    </tr>\n    <tr>\n      <th>13</th>\n      <td>2020-08-27 12:35:54.559828</td>\n      <td>Mon Aug 24 10:01:55 2020</td>\n      <td>Critical (3)</td>\n      <td>Received Response to Broadcast Maintenance Req...</td>\n    </tr>\n    <tr>\n      <th>14</th>\n      <td>2020-08-27 12:35:54.559828</td>\n      <td>Tue Aug 25 09:57:44 2020</td>\n      <td>Critical (3)</td>\n      <td>Started Unicast Maintenance Ranging - No Respo...</td>\n    </tr>\n    <tr>\n      <th>15</th>\n      <td>2020-08-27 12:35:54.559828</td>\n      <td>Wed Aug 26 05:56:20 2020</td>\n      <td>Critical (3)</td>\n      <td>Started Unicast Maintenance Ranging - No Respo...</td>\n    </tr>\n    <tr>\n      <th>16</th>\n      <td>2020-08-27 12:35:54.559828</td>\n      <td>Wed Aug 26 05:56:37 2020</td>\n      <td>Critical (3)</td>\n      <td>Unicast Ranging Received Abort Response - Re-i...</td>\n    </tr>\n    <tr>\n      <th>17</th>\n      <td>2020-08-27 12:35:54.559828</td>\n      <td>Wed Aug 26 05:57:42 2020</td>\n      <td>Critical (3)</td>\n      <td>Received Response to Broadcast Maintenance Req...</td>\n    </tr>\n    <tr>\n      <th>18</th>\n      <td>2020-08-27 12:35:54.559828</td>\n      <td>Wed Aug 26 11:33:45 2020</td>\n      <td>Critical (3)</td>\n      <td>Started Unicast Maintenance Ranging - No Respo...</td>\n    </tr>\n    <tr>\n      <th>19</th>\n      <td>2020-08-27 12:35:54.559828</td>\n      <td>Time Not Established</td>\n      <td>Critical (3)</td>\n      <td>No Ranging Response received - T3 time-out;CM-...</td>\n    </tr>\n    <tr>\n      <th>20</th>\n      <td>2020-08-27 12:35:54.559828</td>\n      <td>Wed Aug 26 16:45:25 2020</td>\n      <td>Critical (3)</td>\n      <td>Resetting the cable modem due to docsDevResetNow</td>\n    </tr>\n    <tr>\n      <th>21</th>\n      <td>2020-08-27 12:35:54.559828</td>\n      <td>Time Not Established</td>\n      <td>Critical (3)</td>\n      <td>No Ranging Response received - T3 time-out;CM-...</td>\n    </tr>\n    <tr>\n      <th>22</th>\n      <td>2020-08-27 12:35:54.559828</td>\n      <td>Time Not Established</td>\n      <td>Notice (6)</td>\n      <td>Honoring MDD; IP provisioning mode = IPv4</td>\n    </tr>\n    <tr>\n      <th>23</th>\n      <td>2020-08-27 12:35:54.559828</td>\n      <td>Wed Aug 26 16:46:14 2020</td>\n      <td>Warning (5)</td>\n      <td>DHCP WARNING - Non-critical field invalid in r...</td>\n    </tr>\n    <tr>\n      <th>24</th>\n      <td>2020-08-27 12:35:54.559828</td>\n      <td>Wed Aug 26 16:46:14 2020</td>\n      <td>Notice (6)</td>\n      <td>TLV-11 - unrecognized OID;CM-MAC=00:40:36:67:b...</td>\n    </tr>\n    <tr>\n      <th>25</th>\n      <td>2020-08-27 12:35:54.559828</td>\n      <td>Thu Aug 27 10:05:56 2020</td>\n      <td>Critical (3)</td>\n      <td>Started Unicast Maintenance Ranging - No Respo...</td>\n    </tr>\n    <tr>\n      <th>26</th>\n      <td>2020-08-27 12:35:54.559828</td>\n      <td>Thu Aug 27 10:07:36 2020</td>\n      <td>Warning (5)</td>\n      <td>Dynamic Range Window violation</td>\n    </tr>\n    <tr>\n      <th>27</th>\n      <td>2020-08-27 12:35:54.559828</td>\n      <td>Thu Aug 27 10:35:14 2020</td>\n      <td>Critical (3)</td>\n      <td>Started Unicast Maintenance Ranging - No Respo...</td>\n    </tr>\n  </tbody>\n</table>\n</div>"
     },
     "metadata": {}
    }
   ],
   "source": [
    "with modem() as m:\n",
    "    if m.login(u,p) == True:    \n",
    "        log = m.getMotoSnmpLog(datetime.now())\n",
    "        display(pd.DataFrame(log))\n",
    "    else:\n",
    "        print('login failed')  "
   ]
  },
  {
   "cell_type": "code",
   "execution_count": null,
   "metadata": {},
   "outputs": [],
   "source": []
  }
 ],
 "metadata": {
  "kernelspec": {
   "display_name": "Python 3.8.3 64-bit",
   "language": "python",
   "name": "python_defaultSpec_1598556898557"
  },
  "language_info": {
   "codemirror_mode": {
    "name": "ipython",
    "version": 3
   },
   "file_extension": ".py",
   "mimetype": "text/x-python",
   "name": "python",
   "nbconvert_exporter": "python",
   "pygments_lexer": "ipython3",
   "version": "3.8.3-final"
  }
 },
 "nbformat": 4,
 "nbformat_minor": 4
}