{
 "cells": [
  {
   "cell_type": "code",
   "execution_count": null,
   "metadata": {},
   "outputs": [],
   "source": [
    "from MB7621 import modem\n",
    "from datetime import datetime\n",
    "import configparser\n",
    "\n",
    "config = configparser.ConfigParser()\n",
    "config.read('config.cfg')\n",
    "\n",
    "try:\n",
    "    u = config.get(\"MB7621\", \"username\")\n",
    "    p = config.get(\"MB7621\", \"password\")\n",
    "    i = int(config.get(\"MB7621\", \"interval\"))\n",
    "except configparser.NoOptionError:\n",
    "    print(\"please define a config.cfg file and include username, password, and interval.\")\n",
    "    sys.exit()\n",
    "except:\n",
    "    print(\"unhandled configparser error %s\" % sys.exc_info()[0])\n",
    "    sys.exit()\n"
   ]
  },
  {
   "cell_type": "code",
   "execution_count": null,
   "metadata": {},
   "outputs": [],
   "source": [
    "with modem() as m:\n",
    "    if m.login(u,p) == True:    \n",
    "        home = m.getMotoHome(datetime.now())\n",
    "        display(home)\n",
    "    else:\n",
    "        print('login failed')  "
   ]
  },
  {
   "cell_type": "code",
   "execution_count": null,
   "metadata": {},
   "outputs": [],
   "source": [
    "with modem() as m:\n",
    "    if m.login(u,p) == True:    \n",
    "        home = m.getMotoSwInfo(datetime.now())\n",
    "        display(home)\n",
    "    else:\n",
    "        print('login failed')  "
   ]
  },
  {
   "cell_type": "code",
   "execution_count": null,
   "metadata": {},
   "outputs": [],
   "source": [
    "with modem() as m:\n",
    "    if m.login(u,p) == True:    \n",
    "        basic,down,up = m.getMotoConnection(datetime.now())\n",
    "        display(home)\n",
    "        display(down)\n",
    "        display(up)\n",
    "    else:\n",
    "        print('login failed')  "
   ]
  },
  {
   "cell_type": "code",
   "execution_count": null,
   "metadata": {},
   "outputs": [],
   "source": [
    "with modem() as m:\n",
    "    if m.login(u,p) == True:    \n",
    "        log = m.getMotoSnmpLog(datetime.now())\n",
    "        display(log)\n",
    "    else:\n",
    "        print('login failed')  "
   ]
  },
  {
   "cell_type": "markdown",
   "metadata": {},
   "source": [
    "## You can convert the results to a pandas dataframe"
   ]
  },
  {
   "cell_type": "code",
   "execution_count": null,
   "metadata": {},
   "outputs": [],
   "source": [
    "import pandas as pd"
   ]
  },
  {
   "cell_type": "code",
   "execution_count": null,
   "metadata": {},
   "outputs": [],
   "source": [
    "with modem() as m:\n",
    "    if m.login(u,p) == True:    \n",
    "        home = m.getMotoHome(datetime.now())\n",
    "        display(pd.DataFrame(home))\n",
    "    else:\n",
    "        print('login failed')  "
   ]
  },
  {
   "cell_type": "code",
   "execution_count": null,
   "metadata": {},
   "outputs": [],
   "source": [
    "with modem() as m:\n",
    "    if m.login(u,p) == True:    \n",
    "        home = m.getMotoSwInfo(datetime.now())\n",
    "        display(pd.DataFrame(home))\n",
    "    else:\n",
    "        print('login failed')  "
   ]
  },
  {
   "cell_type": "code",
   "execution_count": null,
   "metadata": {},
   "outputs": [],
   "source": [
    "with modem() as m:\n",
    "    if m.login(u,p) == True:    \n",
    "        basic,down,up = m.getMotoConnection(datetime.now())\n",
    "        display(pd.DataFrame(home))\n",
    "        display(pd.DataFrame(down))\n",
    "        display(pd.DataFrame(up))\n",
    "    else:\n",
    "        print('login failed')  "
   ]
  },
  {
   "cell_type": "code",
   "execution_count": null,
   "metadata": {},
   "outputs": [],
   "source": [
    "with modem() as m:\n",
    "    if m.login(u,p) == True:    \n",
    "        log = m.getMotoSnmpLog(datetime.now())\n",
    "        display(pd.DataFrame(log))\n",
    "    else:\n",
    "        print('login failed')  "
   ]
  },
  {
   "cell_type": "code",
   "execution_count": null,
   "metadata": {},
   "outputs": [],
   "source": []
  }
 ],
 "metadata": {
  "kernelspec": {
   "display_name": "Python 3",
   "language": "python",
   "name": "python3"
  },
  "language_info": {
   "codemirror_mode": {
    "name": "ipython",
    "version": 3
   },
   "file_extension": ".py",
   "mimetype": "text/x-python",
   "name": "python",
   "nbconvert_exporter": "python",
   "pygments_lexer": "ipython3",
   "version": "3.8.3"
  }
 },
 "nbformat": 4,
 "nbformat_minor": 4
}
